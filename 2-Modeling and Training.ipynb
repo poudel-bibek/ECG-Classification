{
 "cells": [
  {
   "cell_type": "code",
   "execution_count": null,
   "metadata": {},
   "outputs": [],
   "source": [
    "\"\"\"\n",
    "Design a CNN\n",
    "- Training can be done in GPU but the trained model most preferaby should still fit and make inference from CPU\n",
    "- Even the training GPU memory usage cant be above 8GB\n",
    "\"\"\""
   ]
  },
  {
   "cell_type": "code",
   "execution_count": null,
   "metadata": {},
   "outputs": [],
   "source": [
    "Normalize the ECG"
   ]
  }
 ],
 "metadata": {
  "language_info": {
   "name": "python"
  }
 },
 "nbformat": 4,
 "nbformat_minor": 2
}
