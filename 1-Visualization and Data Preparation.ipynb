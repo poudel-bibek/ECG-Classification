{
 "cells": [
  {
   "cell_type": "code",
   "execution_count": null,
   "metadata": {},
   "outputs": [],
   "source": [
    "\"\"\"\n",
    "- Distribution of amplitudes across the 3 classes\n",
    "- Distibution of constituent frequencies across the 3 classes\n",
    "- Split the data into trian and validation sets and package it together into a single file\n",
    "\"\"\""
   ]
  }
 ],
 "metadata": {
  "language_info": {
   "name": "python"
  }
 },
 "nbformat": 4,
 "nbformat_minor": 2
}
